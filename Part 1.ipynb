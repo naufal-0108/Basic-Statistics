{
 "cells": [
  {
   "cell_type": "code",
   "execution_count": 49,
   "id": "3ed30e67-89e6-4529-9bf6-c4410495dc3a",
   "metadata": {},
   "outputs": [],
   "source": [
    "import numpy as np\n",
    "from scipy import stats\n",
    "import pandas as pd\n",
    "import matplotlib.pyplot as plt\n",
    "import seaborn as sns"
   ]
  },
  {
   "cell_type": "markdown",
   "id": "891eee5c-a289-4b3a-b93a-ebc1b5580bd1",
   "metadata": {},
   "source": [
    "## Descriptive Statistics\n",
    "Table Of Contents :\n",
    "1. Measures of Central Tendency : Mean, Median, Mode\n",
    "2. Measures of Spread : Range,Variance, Standard Deviation, Quantiles, Quartiles, Inter Quartile Range"
   ]
  },
  {
   "cell_type": "markdown",
   "id": "da335a2d-4663-4f10-96ae-874f09087c1e",
   "metadata": {},
   "source": [
    "## Measures of Central Tendency"
   ]
  },
  {
   "cell_type": "markdown",
   "id": "7cee8a48-34d1-43f3-9f42-db6b404da84e",
   "metadata": {},
   "source": [
    "1. Mean. Mean is another words of an average of something (values) in this case we call it data. In statistics, the calculation of mean is same whether it is a sample or population. The following is the equation for calculation mean of data :\n",
    "- for mean of sample :\n",
    "$$ \\large \\bar{X}  = \\frac{\\sum_{i=1}^{n} x_i}{n}$$\n",
    "- for mean of population :\n",
    "$$ \\large \\mu  = \\frac{\\sum_{i=1}^{N} x_i}{N}$$\n",
    "\n",
    "2. Median. Median is a midpoint of a sorted data.\n",
    "\n",
    "3. Mode. Mode is a data point that is the most frequent than the others.\n",
    "\n",
    "Note :\n",
    "the median is preferable to use when the data has outliers because mean is sensitive to outliers. For better understanding, we will visualize it at the end of topics."
   ]
  },
  {
   "cell_type": "markdown",
   "id": "29337fdd-9a8b-4548-9b9b-49201fcaff1e",
   "metadata": {},
   "source": [
    "## Measures of spread"
   ]
  },
  {
   "cell_type": "markdown",
   "id": "8d04ddc9-bd08-4657-b32c-75f45bf6156d",
   "metadata": {},
   "source": [
    "1. Range. Range is a different between the largest and the smallest data point.\n",
    "$$ Range = (X_{largest} - X_{smallest})$$\n",
    "\n",
    "2. Variance. Variance is a measurement how vary and how big a spread of data is, but variance is little bit hard to interpret since the unit is diffrence from the actual data.\n",
    "- for sample :\n",
    "$$ \\large{S}^2  = \\frac{\\sum_{i=1}^{n} (x_i - \\bar{x})^2}{n-1}$$\n",
    "- for population :\n",
    "$$ \\large{\\sigma}^2  = \\frac{\\sum_{i=1}^{N} (x_i - \\mu)^2}{N}$$\n",
    "\n",
    "3. Standard Deviation. Same as the variance to tell how vary and how big a spread of data is , but standard deviation is the square root of variance and it is easy to interpret since the unit is same as the actual data.\n",
    "- for sample :\n",
    "$$ \\large{S}  = \\sqrt{\\frac{\\sum_{i=1}^{n} (x_i - \\bar{x})^2}{n-1}}$$\n",
    "- for population :\n",
    "$$ \\large{\\sigma}  = \\sqrt{\\frac{\\sum_{i=1}^{N} (x_i - \\mu)^2}{N}}$$\n",
    "\n",
    "4. Quantiles. Quantiles are data points that devide data into equal-sized area (group) or devide probablity density function into equal-sized area. There many special quantiles, eg : Quartile (divide data into 4 equal-sized group), Quintile (divide data into 5 equal-sized), Percentile (divide data into 100 equal-sized).\n",
    "\n",
    "5. Quartiles. Quartiles are one of special quantiles that divide data into 4 equal-sized group. the values of quartiles are (0.25,0.5,0.75).\n",
    "\n",
    "6. Inter Quantile Range (IQR). IQR is the difference between quntile 0.75 and quantile 0.25.\n",
    "\n",
    "$$ \\large{IQR}  = q_{0.75} - q_{0.25}$$"
   ]
  },
  {
   "cell_type": "markdown",
   "id": "6978c5fd-dad6-4f2c-8413-b847dcddf405",
   "metadata": {},
   "source": [
    "## Visualization"
   ]
  },
  {
   "cell_type": "code",
   "execution_count": 9,
   "id": "90f2b682-8379-4fb6-b032-9f21de2afb99",
   "metadata": {},
   "outputs": [
    {
     "data": {
      "text/html": [
       "<div>\n",
       "<style scoped>\n",
       "    .dataframe tbody tr th:only-of-type {\n",
       "        vertical-align: middle;\n",
       "    }\n",
       "\n",
       "    .dataframe tbody tr th {\n",
       "        vertical-align: top;\n",
       "    }\n",
       "\n",
       "    .dataframe thead th {\n",
       "        text-align: right;\n",
       "    }\n",
       "</style>\n",
       "<table border=\"1\" class=\"dataframe\">\n",
       "  <thead>\n",
       "    <tr style=\"text-align: right;\">\n",
       "      <th></th>\n",
       "      <th>Survived</th>\n",
       "      <th>Pclass</th>\n",
       "      <th>Name</th>\n",
       "      <th>Sex</th>\n",
       "      <th>Age</th>\n",
       "      <th>Siblings/Spouses Aboard</th>\n",
       "      <th>Parents/Children Aboard</th>\n",
       "      <th>Fare</th>\n",
       "    </tr>\n",
       "  </thead>\n",
       "  <tbody>\n",
       "    <tr>\n",
       "      <th>0</th>\n",
       "      <td>0</td>\n",
       "      <td>3</td>\n",
       "      <td>Mr. Owen Harris Braund</td>\n",
       "      <td>male</td>\n",
       "      <td>22.0</td>\n",
       "      <td>1</td>\n",
       "      <td>0</td>\n",
       "      <td>7.2500</td>\n",
       "    </tr>\n",
       "    <tr>\n",
       "      <th>1</th>\n",
       "      <td>1</td>\n",
       "      <td>1</td>\n",
       "      <td>Mrs. John Bradley (Florence Briggs Thayer) Cum...</td>\n",
       "      <td>female</td>\n",
       "      <td>38.0</td>\n",
       "      <td>1</td>\n",
       "      <td>0</td>\n",
       "      <td>71.2833</td>\n",
       "    </tr>\n",
       "    <tr>\n",
       "      <th>2</th>\n",
       "      <td>1</td>\n",
       "      <td>3</td>\n",
       "      <td>Miss. Laina Heikkinen</td>\n",
       "      <td>female</td>\n",
       "      <td>26.0</td>\n",
       "      <td>0</td>\n",
       "      <td>0</td>\n",
       "      <td>7.9250</td>\n",
       "    </tr>\n",
       "    <tr>\n",
       "      <th>3</th>\n",
       "      <td>1</td>\n",
       "      <td>1</td>\n",
       "      <td>Mrs. Jacques Heath (Lily May Peel) Futrelle</td>\n",
       "      <td>female</td>\n",
       "      <td>35.0</td>\n",
       "      <td>1</td>\n",
       "      <td>0</td>\n",
       "      <td>53.1000</td>\n",
       "    </tr>\n",
       "    <tr>\n",
       "      <th>4</th>\n",
       "      <td>0</td>\n",
       "      <td>3</td>\n",
       "      <td>Mr. William Henry Allen</td>\n",
       "      <td>male</td>\n",
       "      <td>35.0</td>\n",
       "      <td>0</td>\n",
       "      <td>0</td>\n",
       "      <td>8.0500</td>\n",
       "    </tr>\n",
       "  </tbody>\n",
       "</table>\n",
       "</div>"
      ],
      "text/plain": [
       "   Survived  Pclass                                               Name  \\\n",
       "0         0       3                             Mr. Owen Harris Braund   \n",
       "1         1       1  Mrs. John Bradley (Florence Briggs Thayer) Cum...   \n",
       "2         1       3                              Miss. Laina Heikkinen   \n",
       "3         1       1        Mrs. Jacques Heath (Lily May Peel) Futrelle   \n",
       "4         0       3                            Mr. William Henry Allen   \n",
       "\n",
       "      Sex   Age  Siblings/Spouses Aboard  Parents/Children Aboard     Fare  \n",
       "0    male  22.0                        1                        0   7.2500  \n",
       "1  female  38.0                        1                        0  71.2833  \n",
       "2  female  26.0                        0                        0   7.9250  \n",
       "3  female  35.0                        1                        0  53.1000  \n",
       "4    male  35.0                        0                        0   8.0500  "
      ]
     },
     "metadata": {},
     "output_type": "display_data"
    }
   ],
   "source": [
    "data = pd.read_csv('titanic.csv')\n",
    "display(data.head())"
   ]
  },
  {
   "cell_type": "code",
   "execution_count": 22,
   "id": "5fa1522c-c5d0-4e10-a67a-9c9ff48cae14",
   "metadata": {},
   "outputs": [
    {
     "name": "stdout",
     "output_type": "stream",
     "text": [
      "Mean of the Data is 29.471\n",
      "Median of the Data is 28.0\n",
      "Mode of the Data is 22.0\n",
      "-------------------------\n",
      "Visualization :\n"
     ]
    },
    {
     "data": {
      "image/png": "[encoded data removed]",
      "text/plain": [
       "<Figure size 576x360 with 1 Axes>"
      ]
     },
     "metadata": {},
     "output_type": "display_data"
    }
   ],
   "source": [
    "# For this example, we will use Age column to calculate mean, median, and mode\n",
    "mean  = data['Age'].mean()\n",
    "median = data['Age'].median()\n",
    "mode = data['Age'].mode()\n",
    "\n",
    "print(f'Mean of the Data is {mean :.3f}')\n",
    "print(f'Median of the Data is {median}')\n",
    "print(f'Mode of the Data is {mode.values[0]}')\n",
    "print('-'*25)\n",
    "print('Visualization :')\n",
    "\n",
    "plt.style.use('seaborn')\n",
    "fig, ax = plt.subplots(figsize = (8,5))\n",
    "ax.hist(data['Age'])\n",
    "ax.set_title('Distribution of Age')\n",
    "ax.set_ylabel('Counts')\n",
    "ax.set_xlabel('Age')\n",
    "ax.set_ylim(0,250)\n",
    "ax.vlines(mean,0,250, colors = 'red', label = 'Mean', linestyle = 'dashed')\n",
    "ax.vlines(median,0,250, colors = 'yellow', label = 'Median', linestyle = 'dashed')\n",
    "ax.vlines(mode,0,250, colors = 'lime', label = 'Mode', linestyle = 'dashed')\n",
    "ax.legend()\n",
    "plt.tight_layout()\n",
    "plt.show()"
   ]
  },
  {
   "cell_type": "markdown",
   "id": "653d7cb2-abb1-4b4c-a9c4-f307cfa391e2",
   "metadata": {},
   "source": [
    "from the plot above, we can see the distribution of age has a heavy tail to the right this means the data is positive skewed where mode < median < mean. Other case is the data is negative skewed where mean < median < mode. for an extreme skewness where there is an extreme outlier in the data , median is more preferable to use for decribing the data since mean is sensitive to outliers."
   ]
  },
  {
   "cell_type": "code",
   "execution_count": 47,
   "id": "9088e0e8-b643-4724-a84f-4a78c98a7b06",
   "metadata": {},
   "outputs": [
    {
     "name": "stdout",
     "output_type": "stream",
     "text": [
      "Range : 79.58\n",
      "Population Variance : 199.20346240459386\n",
      "Sample Variance : 199.428297012274\n",
      "Population Standard Deviation : 14.113945671023176\n",
      "Sample Standard Deviation : 14.121908405462555\n",
      "Q1 : 20.25\n",
      "Q2 : 28.0\n",
      "Q3 : 38.0\n",
      "IQR : 17.75\n"
     ]
    }
   ],
   "source": [
    "# For this example, we will use Age column to calculate range, variance, standard deviation, quartile, IQR.\n",
    "\n",
    "Range_ = max(data['Age']) - min(data['Age'])\n",
    "Variance_pop = np.var(data['Age']) # for population\n",
    "Variance_samp = np.var(data['Age'], ddof = 1) # for sample\n",
    "std_pop = np.sqrt(Variance_pop)\n",
    "std_samp = np.sqrt(Variance_samp)\n",
    "quartiles_ = data['Age'].quantile([0.25,0.5,0.75])\n",
    "IQR_ = stats.iqr(data['Age'])\n",
    "\n",
    "print(f'Range : {Range_}')\n",
    "print(f'Population Variance : {Variance_pop}')\n",
    "print(f'Sample Variance : {Variance_samp}')\n",
    "print(f'Population Standard Deviation : {std_pop}')\n",
    "print(f'Sample Standard Deviation : {std_samp}')\n",
    "print(f'Q1 : {quartiles_[0]}\\nQ2 : {quartiles_[1]}\\nQ3 : {quartiles_[2]}')\n",
    "print(f'IQR : {IQR_}')"
   ]
  },
  {
   "cell_type": "code",
   "execution_count": 51,
   "id": "bd950080-b8fb-45a3-bb02-8becb93c30c1",
   "metadata": {},
   "outputs": [
    {
     "data": {
      "image/png": "[encoded data removed]",
      "text/plain": [
       "<Figure size 576x396 with 1 Axes>"
      ]
     },
     "metadata": {},
     "output_type": "display_data"
    }
   ],
   "source": [
    "sns.boxplot(x = 'Age', data = data)\n",
    "plt.title('Boxplot of Age Distribution')\n",
    "plt.xlabel('Age')\n",
    "plt.show()"
   ]
  },
  {
   "cell_type": "markdown",
   "id": "652df7e7-c175-4c33-8d79-6f7e863b1491",
   "metadata": {},
   "source": [
    "From the boxplot above, the bottom line of the box is quantile 0.25, the middle line is quantile 0.5 (median), and the top line is quantile 0.75. The lenght of the bottom whisker derived from quantile 0.25 - 1.5 (*it may vary, eg : 1,2,2.5,etc) IQR and The lenght of the top whisker derived from quantile 0.75 + 1.5 (*it may vary, eg : 1,2,2.5,etc) IQR. If a data point lies outside the whisker threshold, it can be identified as  an outlier."
   ]
  }
 ],
 "metadata": {
  "kernelspec": {
   "display_name": "Python 3 (ipykernel)",
   "language": "python",
   "name": "python3"
  },
  "language_info": {
   "codemirror_mode": {
    "name": "ipython",
    "version": 3
   },
   "file_extension": ".py",
   "mimetype": "text/x-python",
   "name": "python",
   "nbconvert_exporter": "python",
   "pygments_lexer": "ipython3",
   "version": "3.9.12"
  }
 },
 "nbformat": 4,
 "nbformat_minor": 5
}
