{
 "cells": [
  {
   "cell_type": "code",
   "execution_count": 1,
   "id": "a350aa18-fdff-4f23-b858-b252378803f2",
   "metadata": {},
   "outputs": [],
   "source": [
    "import numpy as np\n",
    "from scipy import stats\n",
    "import matplotlib.pyplot as plt\n",
    "import seaborn as sns"
   ]
  },
  {
   "cell_type": "markdown",
   "id": "45308265-4685-4ef2-be93-9437e44363a5",
   "metadata": {},
   "source": [
    "## Type of Distributions\n",
    "Note : Before we dive deep into this topic, i hope you already know well about theory of probability. if you have not, you may consider to learn about probability first since this topic will required probability. \n",
    "- Table of contents :\n",
    "1. Differences between likelihood and probability.\n",
    "2. Binomial Distribution.\n",
    "3. Poisson Distribution.\n",
    "4. Exponential Distribution.\n",
    "5. Normal Distribution.\n",
    "6. Weibull Distribution."
   ]
  },
  {
   "cell_type": "markdown",
   "id": "ca07e329-b127-41f1-95a0-07a2929587d8",
   "metadata": {},
   "source": [
    "## 1. Likelihood vs Probability\n",
    "we usually think that likelihood is a same thing as probability, but in statistics there is a subtle difference between likelihood and probability. for example, given you have a data and you want to calculate the probability of specific observations in your data, so the first thing to do is to visualize your data distribution commonly with histograms. after we visualize it, we want to know which type of distribution of our data refers to, it can be (normal, poisson, uniform, binomial, exponential, or  etc). after we know what the distribution is, we have to find the parameters of the distribution in order to calculate the probability. finding the best parameters of the distribution given the observations in our data refers to likelihood. After we successfully finding the best parameters, now we can calculate the probablity which is the area under the pdf or pms function. the following is the mathematical equation for likelihood and probability :\n",
    "\n",
    "- Likelihood Function :\n",
    "\n",
    "$$ \\large{Likelihood(paramaters|observation)}$$\n",
    "\n",
    "- Probability Function :\n",
    "\n",
    "$$ \\large{Probability(observation|parameters)}$$\n",
    "\n",
    "For a better explanation you can visit this link :\n",
    "- https://stats.stackexchange.com/questions/2641/what-is-the-difference-between-likelihood-and-probability\n",
    "- https://www.statology.org/likelihood-vs-probability/\n",
    "- https://www.youtube.com/watch?v=pYxNSUDSFH4&ab_channel=StatQuestwithJoshStarmer"
   ]
  },
  {
   "cell_type": "markdown",
   "id": "55d9b37d-15a8-47ab-968e-b54325cf857a",
   "metadata": {},
   "source": [
    "## 2. Binomial Distribution.\n",
    "Binomial Distribution is a discrete distribution that describes distribution of number of succesful event occurs given p (succes probability) and number of trial. For example, a fair coin toss with n trial and we would like to calculate the probability number of head occurs given p = 0.5 and n = 50. The following is the pmf,cdf, expectation, and variance of binomial distribution.\n",
    "\n",
    "- PMF (Probability Mass Function).\n",
    "$$ f(x|(n,p)) = \\dbinom{n}{x} (p)^{x} (1 - p)^{n-x}$$\n",
    "- CDF (Cummulativ Probability Function).\n",
    "$$ F(x|(n,p)) = \\sum_{x = 0}^{n}\\dbinom{n}{x} (p)^{x} (1 - p)^{n-x}$$\n",
    "- Expectation.\n",
    "$$ E[Binomial] = np $$\n",
    "- Standard Deviation.\n",
    "$$ Var[Binomial] = \\sqrt{np(1-p)}$$"
   ]
  },
  {
   "cell_type": "code",
   "execution_count": 30,
   "id": "27712814-6916-4caa-9596-ac2809a81257",
   "metadata": {},
   "outputs": [
    {
     "name": "stdout",
     "output_type": "stream",
     "text": [
      "Expectation = 25.0\n",
      "Variance = 12.5\n",
      "Standard Deviation = 3.5355339059327378\n",
      "Visualization :\n"
     ]
    },
    {
     "data": {
      "image/png": "[encoded data removed]",
      "text/plain": [
       "<Figure size 1152x360 with 2 Axes>"
      ]
     },
     "metadata": {
      "needs_background": "light"
     },
     "output_type": "display_data"
    }
   ],
   "source": [
    "n = 50 \n",
    "p = 0.5\n",
    "mean, var = stats.binom.stats(n, p)\n",
    "print(f'Expectation = {mean}')\n",
    "print(f'Variance = {var}')\n",
    "print(f'Standard Deviation = {np.sqrt(var)}')\n",
    "print('Visualization :')\n",
    "fig, ax = plt.subplots(1,2,figsize = (16,5))\n",
    "x = np.arange(0,51)\n",
    "ax[0].plot(x, stats.binom.pmf(x, n, p), 'bo', ms=4, label='binom pmf')\n",
    "ax[0].vlines(x, 0, stats.binom.pmf(x, n, p), colors='b', lw=1, alpha=0.3)\n",
    "ax[0].set_title('PMF of a Fair Coin Toss Distribution (p = 0.5, n = 50)')\n",
    "ax[0].set_xlabel('Number of Events')\n",
    "\n",
    "ax[1].plot(x, stats.binom.cdf(x, n, p), 'bo', ms=4, label='binom cdff')\n",
    "ax[1].vlines(x, 0, stats.binom.cdf(x, n, p), colors='b', lw=1, alpha=0.3)\n",
    "ax[1].set_title('CDF of a Fair Coin Toss Distribution (p = 0.5, n = 50)')\n",
    "ax[1].set_xlabel('Number of Events')\n",
    "plt.show()"
   ]
  },
  {
   "cell_type": "markdown",
   "id": "9779110d-894d-4095-a2bf-952de4e96022",
   "metadata": {},
   "source": [
    "## 3. Poisson Distribution"
   ]
  },
  {
   "cell_type": "code",
   "execution_count": null,
   "id": "46c49086-6ce1-47df-9252-0a978bbfc375",
   "metadata": {},
   "outputs": [],
   "source": []
  }
 ],
 "metadata": {
  "kernelspec": {
   "display_name": "Python 3 (ipykernel)",
   "language": "python",
   "name": "python3"
  },
  "language_info": {
   "codemirror_mode": {
    "name": "ipython",
    "version": 3
   },
   "file_extension": ".py",
   "mimetype": "text/x-python",
   "name": "python",
   "nbconvert_exporter": "python",
   "pygments_lexer": "ipython3",
   "version": "3.9.12"
  }
 },
 "nbformat": 4,
 "nbformat_minor": 5
}
